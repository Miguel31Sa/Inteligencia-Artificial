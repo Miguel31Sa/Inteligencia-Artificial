{
  "nbformat": 4,
  "nbformat_minor": 0,
  "metadata": {
    "colab": {
      "provenance": [],
      "authorship_tag": "ABX9TyOdYIEp2G+gyA94474TgC8W",
      "include_colab_link": true
    },
    "kernelspec": {
      "name": "python3",
      "display_name": "Python 3"
    },
    "language_info": {
      "name": "python"
    }
  },
  "cells": [
    {
      "cell_type": "markdown",
      "metadata": {
        "id": "view-in-github",
        "colab_type": "text"
      },
      "source": [
        "<a href=\"https://colab.research.google.com/github/Miguel31Sa/Inteligencia-Artificial-MASS/blob/main/Evaluacion_MASS.ipynb\" target=\"_parent\"><img src=\"https://colab.research.google.com/assets/colab-badge.svg\" alt=\"Open In Colab\"/></a>"
      ]
    },
    {
      "cell_type": "markdown",
      "source": [
        "## **Evaluación**\n",
        "Miguel Angel Santiago Santiago\n"
      ],
      "metadata": {
        "id": "C5rDncla4DQR"
      }
    },
    {
      "cell_type": "code",
      "execution_count": 3,
      "metadata": {
        "colab": {
          "base_uri": "https://localhost:8080/"
        },
        "id": "ePcJb2Vx4BxK",
        "outputId": "89604fb5-febd-42a7-fa13-aafdf6ad586a"
      },
      "outputs": [
        {
          "output_type": "stream",
          "name": "stdout",
          "text": [
            "Seleccione la compuerta lógica:\n",
            "1. Compuerta AND\n",
            "2. Compuerta OR\n",
            "Ingrese su opción (1 o 2): 1\n",
            "Ingrese el valor de X[0] (0 o 1): 0\n",
            "Ingrese el valor de X[1] (0 o 1): 0\n",
            "Suma ponderada: 0\n",
            "0 AND 0 = 0\n",
            "¿Desea hacer una nueva consulta? (sí/no): si\n",
            "Seleccione la compuerta lógica:\n",
            "1. Compuerta AND\n",
            "2. Compuerta OR\n",
            "Ingrese su opción (1 o 2): 2\n",
            "Ingrese el valor de X[0] (0 o 1): 0\n",
            "Ingrese el valor de X[1] (0 o 1): 0\n",
            "Suma ponderada: 0\n",
            "0 OR 0 = 0\n",
            "¿Desea hacer una nueva consulta? (sí/no): si\n",
            "Seleccione la compuerta lógica:\n",
            "1. Compuerta AND\n",
            "2. Compuerta OR\n",
            "Ingrese su opción (1 o 2): 1\n",
            "Ingrese el valor de X[0] (0 o 1): 0\n",
            "Ingrese el valor de X[1] (0 o 1): 1\n",
            "Suma ponderada: 5\n",
            "0 AND 1 = 0\n",
            "¿Desea hacer una nueva consulta? (sí/no): si\n",
            "Seleccione la compuerta lógica:\n",
            "1. Compuerta AND\n",
            "2. Compuerta OR\n",
            "Ingrese su opción (1 o 2): 2\n",
            "Ingrese el valor de X[0] (0 o 1): 0\n",
            "Ingrese el valor de X[1] (0 o 1): 1\n",
            "Suma ponderada: 5\n",
            "0 OR 1 = 1\n",
            "¿Desea hacer una nueva consulta? (sí/no): si\n",
            "Seleccione la compuerta lógica:\n",
            "1. Compuerta AND\n",
            "2. Compuerta OR\n",
            "Ingrese su opción (1 o 2): 1\n",
            "Ingrese el valor de X[0] (0 o 1): 1\n",
            "Ingrese el valor de X[1] (0 o 1): 0\n",
            "Suma ponderada: 6\n",
            "1 AND 0 = 0\n",
            "¿Desea hacer una nueva consulta? (sí/no): si\n",
            "Seleccione la compuerta lógica:\n",
            "1. Compuerta AND\n",
            "2. Compuerta OR\n",
            "Ingrese su opción (1 o 2): 2\n",
            "Ingrese el valor de X[0] (0 o 1): 1\n",
            "Ingrese el valor de X[1] (0 o 1): 0\n",
            "Suma ponderada: 6\n",
            "1 OR 0 = 1\n",
            "¿Desea hacer una nueva consulta? (sí/no): si\n",
            "Seleccione la compuerta lógica:\n",
            "1. Compuerta AND\n",
            "2. Compuerta OR\n",
            "Ingrese su opción (1 o 2): 1\n",
            "Ingrese el valor de X[0] (0 o 1): 1\n",
            "Ingrese el valor de X[1] (0 o 1): 1\n",
            "Suma ponderada: 11\n",
            "1 AND 1 = 1\n",
            "¿Desea hacer una nueva consulta? (sí/no): si\n",
            "Seleccione la compuerta lógica:\n",
            "1. Compuerta AND\n",
            "2. Compuerta OR\n",
            "Ingrese su opción (1 o 2): 2\n",
            "Ingrese el valor de X[0] (0 o 1): 1\n",
            "Ingrese el valor de X[1] (0 o 1): 1\n",
            "Suma ponderada: 11\n",
            "1 OR 1 = 1\n",
            "¿Desea hacer una nueva consulta? (sí/no): no\n",
            "Gracias por usar el programa.\n"
          ]
        }
      ],
      "source": [
        "# Primero se va a definir la función para la compuerta AND, que es la misma funcion que se utilizo en la practica 2, lo unico que cambia es despues\n",
        "# del for en la s como su valor es 0 (s=0) decidi no agregarla ya que no afectaria en la funcion\n",
        "def compuerta_and(x, w):\n",
        "    s = 0\n",
        "    y = 0\n",
        "    for i in range(0, 2):\n",
        "        s += x[i] * w[i]\n",
        "    print(f\"Suma: {s}\")\n",
        "\n",
        "    if s >= 11:\n",
        "        y = 1\n",
        "    else:\n",
        "        y = 0\n",
        "    print(x[0], 'AND', x[1], '=', y)\n",
        "\n",
        "# Ahora esta es la funcion para la compuerta OR, de igual forma es la misma que la practica 2\n",
        "def compuerta_or(x, w):\n",
        "    s = 0\n",
        "    y = 0\n",
        "    for i in range(0, 2):\n",
        "        s += x[i] * w[i]\n",
        "    print(f\"Suma: {s}\")\n",
        "\n",
        "    if s > 0:\n",
        "        y = 1\n",
        "    else:\n",
        "        y = 0\n",
        "    print(x[0], 'OR', x[1], '=', y)\n",
        "\n",
        "# Aquí agregue el menu en donde dejara al usuario elegir entre la opcion 1 o 2 (AND o OR)\n",
        "def menu():\n",
        "    while True:\n",
        "        print(\"Seleccione la compuerta lógica:\")\n",
        "        print(\"1. Compuerta AND\")\n",
        "        print(\"2. Compuerta OR\")\n",
        "        opcion = int(input(\"Ingrese su opción (1 o 2): \"))\n",
        "\n",
        "        # En esta parte dejara darle los valores a X y lo que imprime es que elija entre 0 o 1 para los rangos de X\n",
        "        x = []\n",
        "        for i in range(2):\n",
        "            valor = int(input(f\"Ingrese el valor de X[{i}] (0 o 1): \"))\n",
        "            x.append(valor)\n",
        "\n",
        "        # Los pesos o los valores para W se los deje igual que en la practica 2 ya que como anteriormente esos valores me habian funcionado decidi no\n",
        "        # escoger otros y tener que modificar la funcion\n",
        "        w = [6, 5]\n",
        "\n",
        "        # Por ultimo el programa da la logica si es la opcion 1 o si es la opcion 2 para asigarle los valores de x y de w que ya estan definidos\n",
        "        # en caso que no se escoja una de esas dos opciones marcara una opcion para que vuelva a escoger entre 1 o 2\n",
        "        if opcion == 1:\n",
        "            compuerta_and(x, w)\n",
        "        elif opcion == 2:\n",
        "            compuerta_or(x, w)\n",
        "        else:\n",
        "            print(\"Opción no válida. Intente de nuevo.\")\n",
        "            continue\n",
        "\n",
        "        # Aqui lo que hace es despues de realizar la funcion haya sido AND o OR al final de cada operacion da la opcion de hacer una consulta nueva o no\n",
        "        # depende del usuario\n",
        "        nueva_consulta = input(\"¿Desea hacer una nueva consulta? (si/no): \").lower()\n",
        "        if nueva_consulta != \"si\":\n",
        "            print(\"Gracias por usar el programa.\")\n",
        "            break\n",
        "menu()\n"
      ]
    }
  ]
}