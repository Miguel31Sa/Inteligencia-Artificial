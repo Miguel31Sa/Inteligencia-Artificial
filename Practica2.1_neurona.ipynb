{
  "nbformat": 4,
  "nbformat_minor": 0,
  "metadata": {
    "colab": {
      "provenance": [],
      "authorship_tag": "ABX9TyOrcQ0fd9HgwO85gONHSVXm",
      "include_colab_link": true
    },
    "kernelspec": {
      "name": "python3",
      "display_name": "Python 3"
    },
    "language_info": {
      "name": "python"
    }
  },
  "cells": [
    {
      "cell_type": "markdown",
      "metadata": {
        "id": "view-in-github",
        "colab_type": "text"
      },
      "source": [
        "<a href=\"https://colab.research.google.com/github/Miguel31Sa/Inteligencia-Artificial-MASS/blob/main/Practica2.1_neurona.ipynb\" target=\"_parent\"><img src=\"https://colab.research.google.com/assets/colab-badge.svg\" alt=\"Open In Colab\"/></a>"
      ]
    },
    {
      "cell_type": "markdown",
      "source": [
        "#Neurona aprendizaje compuerta AND\n",
        "\n",
        "\n",
        "---\n",
        " 00 -> 0\n",
        "\n",
        " 01 -> 0\n",
        "\n",
        " 10 -> 0\n",
        "\n",
        " 11 -> 1"
      ],
      "metadata": {
        "id": "5fGVZHNv5IKk"
      }
    },
    {
      "cell_type": "code",
      "source": [
        "x=[0,0]\n",
        "w=[6,5]\n",
        "s=0\n",
        "y=0\n",
        "for i in range(0,2):\n",
        "   s=s+x[i]*w[i]\n",
        "print(s)\n",
        "if s >= 11:\n",
        "    y = 1\n",
        "else:\n",
        "    y = 0\n",
        "\n",
        "print(x[0],'AND',x[1],'=',y)"
      ],
      "metadata": {
        "colab": {
          "base_uri": "https://localhost:8080/"
        },
        "id": "zvORSiH-5jar",
        "outputId": "ebc676b7-ae5d-4692-89b5-530c5ee3c418"
      },
      "execution_count": null,
      "outputs": [
        {
          "output_type": "stream",
          "name": "stdout",
          "text": [
            "0\n",
            "0 AND 0 = 0\n"
          ]
        }
      ]
    },
    {
      "cell_type": "markdown",
      "source": [
        "La modificación que se hizo fue comparar la \"s\" para que si es mayor o igual a 11 entonces el resultado de y sea 1, en un caso contrario y seria igual a 0, para \"w\" se le dieron los valores de 6 y 5."
      ],
      "metadata": {
        "id": "EatsZUadLssZ"
      }
    },
    {
      "cell_type": "markdown",
      "source": [
        "## Neurona Aprendizaje compuerta OR"
      ],
      "metadata": {
        "id": "y0djGozQqQYJ"
      }
    },
    {
      "cell_type": "markdown",
      "source": [
        "00 -> 0\n",
        "\n",
        "01 -> 1\n",
        "\n",
        "10 -> 1\n",
        "\n",
        "11 -> 1"
      ],
      "metadata": {
        "id": "iXWzIEGkrKsQ"
      }
    },
    {
      "cell_type": "code",
      "source": [
        "x = [1, 0]\n",
        "w = [6, 5]\n",
        "s = 0\n",
        "y = 0\n",
        "\n",
        "for i in range(0, 2):\n",
        "    s=s+x[i]*w[i]\n",
        "print(s)\n",
        "if s>0:\n",
        "    y=1\n",
        "else:\n",
        "    y=0\n",
        "print(x[0], 'OR', x[1], '=', y)"
      ],
      "metadata": {
        "colab": {
          "base_uri": "https://localhost:8080/"
        },
        "id": "89WItuhWqW0p",
        "outputId": "f73e0dff-33f1-4b75-9c26-e792da2acc09"
      },
      "execution_count": null,
      "outputs": [
        {
          "output_type": "stream",
          "name": "stdout",
          "text": [
            "6\n",
            "1 OR 0 = 1\n"
          ]
        }
      ]
    },
    {
      "cell_type": "markdown",
      "source": [
        "Aquí lo que se modifico fue hacer la comparativa con 0 si es mayor o igual la fucnion de \"s\" entonces el resultado de y seria 1 en un caso contrario y seria igual  0."
      ],
      "metadata": {
        "id": "xn0Xm0fmMPuX"
      }
    }
  ]
}