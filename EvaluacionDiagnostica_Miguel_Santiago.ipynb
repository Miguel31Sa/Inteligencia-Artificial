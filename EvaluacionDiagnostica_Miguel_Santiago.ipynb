{
  "nbformat": 4,
  "nbformat_minor": 0,
  "metadata": {
    "colab": {
      "provenance": [],
      "include_colab_link": true
    },
    "kernelspec": {
      "name": "python3",
      "display_name": "Python 3"
    },
    "language_info": {
      "name": "python"
    }
  },
  "cells": [
    {
      "cell_type": "markdown",
      "metadata": {
        "id": "view-in-github",
        "colab_type": "text"
      },
      "source": [
        "<a href=\"https://colab.research.google.com/github/Miguel31Sa/Inteligencia-Artificial-MASS/blob/main/EvaluacionDiagnostica_Miguel_Santiago.ipynb\" target=\"_parent\"><img src=\"https://colab.research.google.com/assets/colab-badge.svg\" alt=\"Open In Colab\"/></a>"
      ]
    },
    {
      "cell_type": "markdown",
      "source": [
        "¿Como se declara una lista en python?"
      ],
      "metadata": {
        "id": "OHQbI4lmWpkN"
      }
    },
    {
      "cell_type": "code",
      "execution_count": null,
      "metadata": {
        "colab": {
          "base_uri": "https://localhost:8080/"
        },
        "id": "o0WIwaOnWghW",
        "outputId": "484a8d8c-5e6f-4e6c-9a49-52adf31f9a07"
      },
      "outputs": [
        {
          "output_type": "stream",
          "name": "stdout",
          "text": [
            "[1, 2, 3]\n"
          ]
        }
      ],
      "source": [
        "my_list = [ 1,2,3]\n",
        "print (my_list)"
      ]
    },
    {
      "cell_type": "markdown",
      "source": [
        "¿Que funcion se usa para conocer el numero de elementos en una lista?"
      ],
      "metadata": {
        "id": "LZbd7paKXe05"
      }
    },
    {
      "cell_type": "code",
      "source": [
        "print(len(my_list))"
      ],
      "metadata": {
        "colab": {
          "base_uri": "https://localhost:8080/"
        },
        "id": "QkqfN0J7Xy6c",
        "outputId": "390c0f7c-4f26-4797-ab69-ffb205ba077a"
      },
      "execution_count": null,
      "outputs": [
        {
          "output_type": "stream",
          "name": "stdout",
          "text": [
            "3\n"
          ]
        }
      ]
    },
    {
      "cell_type": "markdown",
      "source": [
        "¿Que resultado obtendremos al ejecutar el siguiente codigo?"
      ],
      "metadata": {
        "id": "Fo7ypR9RX6nR"
      }
    },
    {
      "cell_type": "code",
      "source": [
        "a=[ 1,2,3,4,5]\n",
        "print(a[ ::-1])"
      ],
      "metadata": {
        "colab": {
          "base_uri": "https://localhost:8080/"
        },
        "id": "Y1TyPtHMYZ9I",
        "outputId": "069900b8-1811-4e36-b2ed-f0b766426b82"
      },
      "execution_count": null,
      "outputs": [
        {
          "output_type": "stream",
          "name": "stdout",
          "text": [
            "[5, 4, 3, 2, 1]\n"
          ]
        }
      ]
    },
    {
      "cell_type": "markdown",
      "source": [
        "¿Cual es el resultado de la siguiente expresion?"
      ],
      "metadata": {
        "id": "6wGXtpylZBtA"
      }
    },
    {
      "cell_type": "code",
      "source": [
        "print(3*\"5\"+2)"
      ],
      "metadata": {
        "colab": {
          "base_uri": "https://localhost:8080/",
          "height": 141
        },
        "id": "hNtjRwXTZJaf",
        "outputId": "2663ce09-8275-43ae-ecd0-0622c53d080d"
      },
      "execution_count": null,
      "outputs": [
        {
          "output_type": "error",
          "ename": "TypeError",
          "evalue": "can only concatenate str (not \"int\") to str",
          "traceback": [
            "\u001b[0;31m---------------------------------------------------------------------------\u001b[0m",
            "\u001b[0;31mTypeError\u001b[0m                                 Traceback (most recent call last)",
            "\u001b[0;32m<ipython-input-4-ecf93d8422a1>\u001b[0m in \u001b[0;36m<cell line: 1>\u001b[0;34m()\u001b[0m\n\u001b[0;32m----> 1\u001b[0;31m \u001b[0mprint\u001b[0m\u001b[0;34m(\u001b[0m\u001b[0;36m3\u001b[0m\u001b[0;34m*\u001b[0m\u001b[0;34m\"5\"\u001b[0m\u001b[0;34m+\u001b[0m\u001b[0;36m2\u001b[0m\u001b[0;34m)\u001b[0m\u001b[0;34m\u001b[0m\u001b[0;34m\u001b[0m\u001b[0m\n\u001b[0m",
            "\u001b[0;31mTypeError\u001b[0m: can only concatenate str (not \"int\") to str"
          ]
        }
      ]
    },
    {
      "cell_type": "markdown",
      "source": [
        "¿Que salida generara el siguiente codigo?"
      ],
      "metadata": {
        "id": "HsAHW9yuZaEO"
      }
    },
    {
      "cell_type": "code",
      "source": [
        "def foo(x,y=[]):\n",
        "  y.append(x)\n",
        "  return y\n",
        "\n",
        "print(foo(1))\n",
        "print(foo(2, []))\n",
        "print(foo(3))"
      ],
      "metadata": {
        "colab": {
          "base_uri": "https://localhost:8080/"
        },
        "id": "qTvHkH43Zlan",
        "outputId": "01414971-20ff-41e1-b3f1-ae094ba88b86"
      },
      "execution_count": null,
      "outputs": [
        {
          "output_type": "stream",
          "name": "stdout",
          "text": [
            "[1]\n",
            "[2]\n",
            "[1, 3]\n"
          ]
        }
      ]
    },
    {
      "cell_type": "markdown",
      "source": [
        "¿Que resultado obtendremos al ejecutar el siguiente codigo?\n",
        "\n",
        "```\n",
        "# Tiene formato de código\n",
        "```\n",
        "\n"
      ],
      "metadata": {
        "id": "tvDBwOJIbJnE"
      }
    },
    {
      "cell_type": "code",
      "source": [
        "def multiply_list(numbers,factor):\n",
        "  result=[ ]\n",
        "  for number in numbers:\n",
        "    result.append(number*factor)\n",
        "  return result\n",
        "\n",
        "my_list=[ 1,2,3]\n",
        "output=multiply_list(my_list,2)\n",
        "print(output)"
      ],
      "metadata": {
        "colab": {
          "base_uri": "https://localhost:8080/"
        },
        "id": "cQAGMZbcbnjl",
        "outputId": "46f3945a-c609-4219-fe56-81eef9eb484d"
      },
      "execution_count": null,
      "outputs": [
        {
          "output_type": "stream",
          "name": "stdout",
          "text": [
            "[2, 4, 6]\n"
          ]
        }
      ]
    },
    {
      "cell_type": "markdown",
      "source": [
        "Practica de Python"
      ],
      "metadata": {
        "id": "qzHnVJ--bxG8"
      }
    },
    {
      "cell_type": "markdown",
      "source": [
        "Clasificación de una lista con nùmeros pares e impares\n",
        "\n",
        "\n"
      ],
      "metadata": {
        "id": "L68RCM5Ob43c"
      }
    },
    {
      "cell_type": "code",
      "source": [
        " #declaración de variables\n",
        "numeros = [10,25,36,98,77,34,89,58]\n",
        "  #print(type(numeros[0])) imprimir el tipo de dato de un número en la lista\n",
        "pares = []\n",
        "impares = []"
      ],
      "metadata": {
        "id": "vFRDcouScIYI"
      },
      "execution_count": null,
      "outputs": []
    },
    {
      "cell_type": "code",
      "source": [
        "#ciclo for para recorrer la lista\n",
        "\n",
        "for numero in numeros:\n",
        "  if numero % 2 == 0:\n",
        "    # pares[0] = numeros[0]; java, c, c# \"Es el valor de '1'\"\n",
        "    pares.append(numero)\n",
        "  else:\n",
        "    impares.append(numero)"
      ],
      "metadata": {
        "id": "ISJWnF0ZdbtE"
      },
      "execution_count": null,
      "outputs": []
    },
    {
      "cell_type": "code",
      "source": [
        "#impresion de resultados\n",
        "print (\"Pares: \",pares , \"total: \", len(pares))\n",
        "print (\"Impares: \",impares , \"total: \", len(impares))"
      ],
      "metadata": {
        "id": "5XBOeQimeg8s",
        "outputId": "08e8e936-8b8d-43e4-baf3-ef114928d91f",
        "colab": {
          "base_uri": "https://localhost:8080/"
        }
      },
      "execution_count": null,
      "outputs": [
        {
          "output_type": "stream",
          "name": "stdout",
          "text": [
            "Pares:  [10, 36, 98, 34, 58] total:  5\n",
            "Impares:  [25, 77, 89] total:  3\n"
          ]
        }
      ]
    },
    {
      "cell_type": "code",
      "source": [
        "#funcion para sumar los numeros pares\n",
        "def sumaPares(lista):\n",
        "  suma = 0\n",
        "  for numero in lista:\n",
        "    suma += numero\n",
        "    return suma"
      ],
      "metadata": {
        "id": "oRxW565FfI8s"
      },
      "execution_count": null,
      "outputs": []
    },
    {
      "cell_type": "code",
      "source": [
        "#impresion de la suma\n",
        "print(\"Suma de pares\", sumaPares(pares))\n",
        "#print (\"Suma de impares\", sumaLista(impares))"
      ],
      "metadata": {
        "id": "be6TbxJ1fodU",
        "outputId": "a6216428-a19a-401a-8186-3734e85af7f5",
        "colab": {
          "base_uri": "https://localhost:8080/"
        }
      },
      "execution_count": null,
      "outputs": [
        {
          "output_type": "stream",
          "name": "stdout",
          "text": [
            "Suma de pares 10\n"
          ]
        }
      ]
    },
    {
      "cell_type": "markdown",
      "source": [
        "Practica 2 - Ejercicios en python"
      ],
      "metadata": {
        "id": "XAXtBhaGhVKw"
      }
    },
    {
      "cell_type": "markdown",
      "source": [
        "Un taller automotriz necesita llevar un control de su inventario de repuestos. Crea un programa que permita agregar, eliminar y consultar la cantidad de repuestos disponibles, así como realizar una compra cuando el inventario de un repuesto está bajo."
      ],
      "metadata": {
        "id": "rYmAMmZshbeU"
      }
    },
    {
      "cell_type": "code",
      "source": [],
      "metadata": {
        "id": "FOgRjpVhhgnP"
      },
      "execution_count": null,
      "outputs": []
    }
  ]
}