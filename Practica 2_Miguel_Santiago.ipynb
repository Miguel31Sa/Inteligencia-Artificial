{
  "nbformat": 4,
  "nbformat_minor": 0,
  "metadata": {
    "colab": {
      "provenance": [],
      "include_colab_link": true
    },
    "kernelspec": {
      "name": "python3",
      "display_name": "Python 3"
    },
    "language_info": {
      "name": "python"
    }
  },
  "cells": [
    {
      "cell_type": "markdown",
      "metadata": {
        "id": "view-in-github",
        "colab_type": "text"
      },
      "source": [
        "<a href=\"https://colab.research.google.com/github/Miguel31Sa/Inteligencia-Artificial-MASS/blob/main/Practica%202_Miguel_Santiago.ipynb\" target=\"_parent\"><img src=\"https://colab.research.google.com/assets/colab-badge.svg\" alt=\"Open In Colab\"/></a>"
      ]
    },
    {
      "cell_type": "markdown",
      "source": [
        "¿Como se declara una lista en python?"
      ],
      "metadata": {
        "id": "OHQbI4lmWpkN"
      }
    },
    {
      "cell_type": "code",
      "execution_count": null,
      "metadata": {
        "colab": {
          "base_uri": "https://localhost:8080/"
        },
        "id": "o0WIwaOnWghW",
        "outputId": "484a8d8c-5e6f-4e6c-9a49-52adf31f9a07"
      },
      "outputs": [
        {
          "output_type": "stream",
          "name": "stdout",
          "text": [
            "[1, 2, 3]\n"
          ]
        }
      ],
      "source": [
        "my_list = [ 1,2,3]\n",
        "print (my_list)"
      ]
    },
    {
      "cell_type": "markdown",
      "source": [
        "¿Que funcion se usa para conocer el numero de elementos en una lista?"
      ],
      "metadata": {
        "id": "LZbd7paKXe05"
      }
    },
    {
      "cell_type": "code",
      "source": [
        "print(len(my_list))"
      ],
      "metadata": {
        "colab": {
          "base_uri": "https://localhost:8080/"
        },
        "id": "QkqfN0J7Xy6c",
        "outputId": "390c0f7c-4f26-4797-ab69-ffb205ba077a"
      },
      "execution_count": null,
      "outputs": [
        {
          "output_type": "stream",
          "name": "stdout",
          "text": [
            "3\n"
          ]
        }
      ]
    },
    {
      "cell_type": "markdown",
      "source": [
        "¿Que resultado obtendremos al ejecutar el siguiente codigo?"
      ],
      "metadata": {
        "id": "Fo7ypR9RX6nR"
      }
    },
    {
      "cell_type": "code",
      "source": [
        "a=[ 1,2,3,4,5]\n",
        "print(a[ ::-1])"
      ],
      "metadata": {
        "colab": {
          "base_uri": "https://localhost:8080/"
        },
        "id": "Y1TyPtHMYZ9I",
        "outputId": "069900b8-1811-4e36-b2ed-f0b766426b82"
      },
      "execution_count": null,
      "outputs": [
        {
          "output_type": "stream",
          "name": "stdout",
          "text": [
            "[5, 4, 3, 2, 1]\n"
          ]
        }
      ]
    },
    {
      "cell_type": "markdown",
      "source": [
        "¿Cual es el resultado de la siguiente expresion?"
      ],
      "metadata": {
        "id": "6wGXtpylZBtA"
      }
    },
    {
      "cell_type": "code",
      "source": [
        "print(3 * \"5\" + str(2))"
      ],
      "metadata": {
        "colab": {
          "base_uri": "https://localhost:8080/"
        },
        "id": "hNtjRwXTZJaf",
        "outputId": "70f34eb9-b43a-4999-8e8f-f0d54ece3991"
      },
      "execution_count": 4,
      "outputs": [
        {
          "output_type": "stream",
          "name": "stdout",
          "text": [
            "5552\n"
          ]
        }
      ]
    },
    {
      "cell_type": "markdown",
      "source": [
        "¿Que salida generara el siguiente codigo?"
      ],
      "metadata": {
        "id": "HsAHW9yuZaEO"
      }
    },
    {
      "cell_type": "code",
      "source": [
        "def foo(x,y=[]):\n",
        "  y.append(x)\n",
        "  return y\n",
        "\n",
        "print(foo(1))\n",
        "print(foo(2, []))\n",
        "print(foo(3))"
      ],
      "metadata": {
        "colab": {
          "base_uri": "https://localhost:8080/"
        },
        "id": "qTvHkH43Zlan",
        "outputId": "01414971-20ff-41e1-b3f1-ae094ba88b86"
      },
      "execution_count": null,
      "outputs": [
        {
          "output_type": "stream",
          "name": "stdout",
          "text": [
            "[1]\n",
            "[2]\n",
            "[1, 3]\n"
          ]
        }
      ]
    },
    {
      "cell_type": "markdown",
      "source": [
        "¿Que resultado obtendremos al ejecutar el siguiente codigo?\n",
        "\n",
        "```\n",
        "# Tiene formato de código\n",
        "```\n",
        "\n"
      ],
      "metadata": {
        "id": "tvDBwOJIbJnE"
      }
    },
    {
      "cell_type": "code",
      "source": [
        "def multiply_list(numbers,factor):\n",
        "  result=[ ]\n",
        "  for number in numbers:\n",
        "    result.append(number*factor)\n",
        "  return result\n",
        "\n",
        "my_list=[ 1,2,3]\n",
        "output=multiply_list(my_list,2)\n",
        "print(output)"
      ],
      "metadata": {
        "colab": {
          "base_uri": "https://localhost:8080/"
        },
        "id": "cQAGMZbcbnjl",
        "outputId": "46f3945a-c609-4219-fe56-81eef9eb484d"
      },
      "execution_count": null,
      "outputs": [
        {
          "output_type": "stream",
          "name": "stdout",
          "text": [
            "[2, 4, 6]\n"
          ]
        }
      ]
    },
    {
      "cell_type": "markdown",
      "source": [
        "Practica de Python"
      ],
      "metadata": {
        "id": "qzHnVJ--bxG8"
      }
    },
    {
      "cell_type": "markdown",
      "source": [
        "Clasificación de una lista con nùmeros pares e impares\n",
        "\n",
        "\n"
      ],
      "metadata": {
        "id": "L68RCM5Ob43c"
      }
    },
    {
      "cell_type": "code",
      "source": [
        " #declaración de variables\n",
        "numeros = [10,25,36,98,77,34,89,58]\n",
        "  #print(type(numeros[0])) imprimir el tipo de dato de un número en la lista\n",
        "pares = []\n",
        "impares = []"
      ],
      "metadata": {
        "id": "vFRDcouScIYI"
      },
      "execution_count": null,
      "outputs": []
    },
    {
      "cell_type": "code",
      "source": [
        "#ciclo for para recorrer la lista\n",
        "\n",
        "for numero in numeros:\n",
        "  if numero % 2 == 0:\n",
        "    # pares[0] = numeros[0]; java, c, c# \"Es el valor de '1'\"\n",
        "    pares.append(numero)\n",
        "  else:\n",
        "    impares.append(numero)"
      ],
      "metadata": {
        "id": "ISJWnF0ZdbtE"
      },
      "execution_count": null,
      "outputs": []
    },
    {
      "cell_type": "code",
      "source": [
        "#impresion de resultados\n",
        "print (\"Pares: \",pares , \"total: \", len(pares))\n",
        "print (\"Impares: \",impares , \"total: \", len(impares))"
      ],
      "metadata": {
        "id": "5XBOeQimeg8s",
        "outputId": "08e8e936-8b8d-43e4-baf3-ef114928d91f",
        "colab": {
          "base_uri": "https://localhost:8080/"
        }
      },
      "execution_count": null,
      "outputs": [
        {
          "output_type": "stream",
          "name": "stdout",
          "text": [
            "Pares:  [10, 36, 98, 34, 58] total:  5\n",
            "Impares:  [25, 77, 89] total:  3\n"
          ]
        }
      ]
    },
    {
      "cell_type": "code",
      "source": [
        "#funcion para sumar los numeros pares\n",
        "def sumaPares(lista):\n",
        "  suma = 0\n",
        "  for numero in lista:\n",
        "    suma += numero\n",
        "    return suma"
      ],
      "metadata": {
        "id": "oRxW565FfI8s"
      },
      "execution_count": null,
      "outputs": []
    },
    {
      "cell_type": "code",
      "source": [
        "#impresion de la suma\n",
        "print(\"Suma de pares\", sumaPares(pares))\n",
        "#print (\"Suma de impares\", sumaLista(impares))"
      ],
      "metadata": {
        "id": "be6TbxJ1fodU",
        "outputId": "a6216428-a19a-401a-8186-3734e85af7f5",
        "colab": {
          "base_uri": "https://localhost:8080/"
        }
      },
      "execution_count": null,
      "outputs": [
        {
          "output_type": "stream",
          "name": "stdout",
          "text": [
            "Suma de pares 10\n"
          ]
        }
      ]
    },
    {
      "cell_type": "markdown",
      "source": [
        "## **Practica 2 - Ejercicios en python**"
      ],
      "metadata": {
        "id": "XAXtBhaGhVKw"
      }
    },
    {
      "cell_type": "markdown",
      "source": [
        "***Un taller automotriz necesita llevar un control de su inventario de repuestos. Crea un programa que permita agregar, eliminar y consultar la cantidad de repuestos disponibles, así como realizar una compra cuando el inventario de un repuesto está bajo.***"
      ],
      "metadata": {
        "id": "rYmAMmZshbeU"
      }
    },
    {
      "cell_type": "code",
      "source": [
        "class InventarioRepuestos:\n",
        "    def __init__(self):\n",
        "        self.repuestos = {}"
      ],
      "metadata": {
        "id": "FOgRjpVhhgnP"
      },
      "execution_count": 39,
      "outputs": []
    },
    {
      "cell_type": "markdown",
      "source": [
        "En esta parte solamente se esta declarando el self para poder almacenar todo lo que habra en el inventario de repuesto, al iniciar el programa no habra ningun repuesto en el inventario ya que estos se los tendriamos que ir agregando."
      ],
      "metadata": {
        "id": "VT76idyI1Kaj"
      }
    },
    {
      "cell_type": "code",
      "source": [
        "def agregar_repuesto(self, nombre_repuesto, cantidad, nivel_minimo):\n",
        "        \"\"\"Agrega un nuevo repuesto al inventario.\"\"\"\n",
        "        self.repuestos[nombre_repuesto] = {\n",
        "            'cantidad': cantidad,\n",
        "            'nivel_minimo': nivel_minimo\n",
        "        }\n",
        "        print(f\"Repuesto '{nombre_repuesto}' agregado con {cantidad} unidades.\")\n"
      ],
      "metadata": {
        "id": "xafF4DGl2BRL"
      },
      "execution_count": 40,
      "outputs": []
    },
    {
      "cell_type": "markdown",
      "source": [
        "Para lo siguiente lo que se esta haciendo es justamente agregar todo lo que estara en el inventario de repuestos, en donde se estara igual declarando la funcion de agregar repuestos y que estará pidiendo el nombre del repuesto, la cantidad que se va agregar y el nivel minimo que se puede tener del mismo repuesto, para asi saber si comprar mas del mismo producto o si esta bien el inventario, a su vez al final de agregar el repuesto nos imprime el nombre del repuesto y las cantidades que se han agregado."
      ],
      "metadata": {
        "id": "HGTo1V4Q2LDr"
      }
    },
    {
      "cell_type": "code",
      "source": [
        "def eliminar_repuesto(self, nombre_repuesto):\n",
        "        \"\"\"Elimina un repuesto del inventario.\"\"\"\n",
        "        if nombre_repuesto in self.repuestos:\n",
        "            del self.repuestos[nombre_repuesto]\n",
        "            print(f\"Repuesto '{nombre_repuesto}' eliminado del inventario.\")\n",
        "        else:\n",
        "            print(f\"El repuesto '{nombre_repuesto}' no existe en el inventario.\")\n"
      ],
      "metadata": {
        "id": "uLuOrbPo3nxz"
      },
      "execution_count": 41,
      "outputs": []
    },
    {
      "cell_type": "markdown",
      "source": [
        "Aquí se esta declarando una nueva funcion que servira para eliminar algun repuesto del inventario en donde al ejecutarlo manda primero a llamar la funcion y la variable del nombre del repuesto a eliminar y el self que es donde se está almecanando todos los repuestos, si esta el repuesto en el inventario se va a imprimir un mensaje que diga repuesto eliminado y si no existe se va a imprimir un mensaje que diga que no se encuentra el repuesto."
      ],
      "metadata": {
        "id": "Eu2QoYIk34OD"
      }
    },
    {
      "cell_type": "code",
      "source": [
        "def consultar_inventario(self):\n",
        "        \"\"\"Consulta todos los repuestos disponibles en el inventario.\"\"\"\n",
        "        if not self.repuestos:\n",
        "            print(\"No hay repuestos en el inventario.\")\n",
        "        else:\n",
        "            for repuesto, datos in self.repuestos.items():\n",
        "                print(f\"Repuesto: {repuesto}, Cantidad: {datos['cantidad']}, Nivel Mínimo: {datos['nivel_minimo']}\")\n"
      ],
      "metadata": {
        "id": "M6O_WN7l4YyI"
      },
      "execution_count": 42,
      "outputs": []
    },
    {
      "cell_type": "markdown",
      "source": [
        "Aquí igual que la funcion de eliminar solamente va a consultar que repuestos se encuentran en el inventario o almacenados en el self es por eso que manda a llamar a esa variable y si no existe solo muestra que no hay repuestos en el inventario de lo contrario manda a llamar a las variables del nombre del repuesto, la cantidad que tiene y su nivel minimo"
      ],
      "metadata": {
        "id": "13AjSRw540rH"
      }
    },
    {
      "cell_type": "code",
      "source": [
        "def consultar_repuesto(self, nombre_repuesto):\n",
        "        \"\"\"Consulta la cantidad disponible de un repuesto específico.\"\"\"\n",
        "        if nombre_repuesto in self.repuestos:\n",
        "            repuesto = self.repuestos[nombre_repuesto]\n",
        "            print(f\"{nombre_repuesto}: Cantidad disponible: {repuesto['cantidad']}, Nivel mínimo: {repuesto['nivel_minimo']}\")\n",
        "        else:\n",
        "            print(f\"El repuesto '{nombre_repuesto}' no se encuentra en el inventario.\")\n"
      ],
      "metadata": {
        "id": "uJZHHzwu5Qzp"
      },
      "execution_count": 43,
      "outputs": []
    },
    {
      "cell_type": "markdown",
      "source": [
        "Aquí igual que en la función anterior nos va a dar una opción para consultar los repuestos solo que esta función lo que hace es buscar un repuesto en especial a comparación de la función anterior que muestra todos los repuestos en el inventario"
      ],
      "metadata": {
        "id": "qaX_TSyc5Y3T"
      }
    },
    {
      "cell_type": "code",
      "source": [
        "def realizar_compra(self, nombre_repuesto, cantidad_comprada):\n",
        "        \"\"\"Realiza una compra de un repuesto cuando está bajo el nivel mínimo.\"\"\"\n",
        "        if nombre_repuesto in self.repuestos:\n",
        "            self.repuestos[nombre_repuesto]['cantidad'] += cantidad_comprada\n",
        "            print(f\"Se han comprado {cantidad_comprada} unidades de '{nombre_repuesto}'.\")\n",
        "        else:\n",
        "            print(f\"El repuesto '{nombre_repuesto}' no está en el inventario.\")\n"
      ],
      "metadata": {
        "id": "kZF5L_Xm5nsi"
      },
      "execution_count": 44,
      "outputs": []
    },
    {
      "cell_type": "markdown",
      "source": [
        "Está función lo que esta haciendo es que permita al usuario comprar el repuesto que quiera, por eso pide el nombre del repuesto a comprar que lo manda a llamar con el self y el nombre_repuesto, a su vez tambien pide la cantidad a comprar y si se compra muetsra el mensaje de cuanto se a comprado con el nombre y la cantidad, si no existe o no esta almacenado (en el self) muestra que el nombre de ese producto no esta en el inventario."
      ],
      "metadata": {
        "id": "c6lWZV3A51i-"
      }
    },
    {
      "cell_type": "code",
      "source": [
        "def verificar_niveles_minimos(self):\n",
        "        \"\"\"Verifica si algún repuesto está bajo su nivel mínimo y sugiere una compra.\"\"\"\n",
        "        for repuesto, datos in self.repuestos.items():\n",
        "            if datos['cantidad'] < datos['nivel_minimo']:\n",
        "                print(f\"El repuesto '{repuesto}' está bajo su nivel mínimo. Considera realizar una compra.\")\n",
        "            else:\n",
        "                print(f\"El repuesto '{repuesto}' tiene suficiente stock.\")\n"
      ],
      "metadata": {
        "id": "RpEOPFGc60GA"
      },
      "execution_count": 45,
      "outputs": []
    },
    {
      "cell_type": "markdown",
      "source": [
        "Está funcion estara mostrando los niveles minimos que tiene cada repuesto y solo estara mandando a llamar el nombre del repuesto y tambien haciendo la comparación para verificar si lo que se tiene en el inventario es menor a la cantidad minima que se va a declarar."
      ],
      "metadata": {
        "id": "k1TVdhJY68Cq"
      }
    },
    {
      "cell_type": "code",
      "source": [
        "def menu():\n",
        "    inventario = InventarioRepuestos()\n",
        "\n",
        "    while True:\n",
        "        print(\"\\n--- Menú de Inventario ---\")\n",
        "        print(\"1. Agregar repuesto\")\n",
        "        print(\"2. Eliminar repuesto\")\n",
        "        print(\"3. Consultar inventario completo\")\n",
        "        print(\"4. Consultar repuesto específico\")\n",
        "        print(\"5. Realizar compra\")\n",
        "        print(\"6. Verificar niveles mínimos\")\n",
        "        print(\"7. Salir\")\n",
        "\n",
        "        opcion = input(\"Seleccione una opción (1-7): \")\n",
        "\n",
        "        if opcion == \"1\":\n",
        "            nombre = input(\"Ingrese el nombre del repuesto: \")\n",
        "            cantidad = int(input(\"Ingrese la cantidad inicial: \"))\n",
        "            nivel_minimo = int(input(\"Ingrese el nivel mínimo: \"))\n",
        "            inventario.agregar_repuesto(nombre, cantidad, nivel_minimo)\n",
        "\n",
        "        elif opcion == \"2\":\n",
        "            nombre = input(\"Ingrese el nombre del repuesto a eliminar: \")\n",
        "            inventario.eliminar_repuesto(nombre)\n",
        "\n",
        "        elif opcion == \"3\":\n",
        "            inventario.consultar_inventario()\n",
        "\n",
        "        elif opcion == \"4\":\n",
        "            nombre = input(\"Ingrese el nombre del repuesto a consultar: \")\n",
        "            inventario.consultar_repuesto(nombre)\n",
        "\n",
        "        elif opcion == \"5\":\n",
        "            nombre = input(\"Ingrese el nombre del repuesto a comprar: \")\n",
        "            cantidad = int(input(f\"Ingrese la cantidad de '{nombre}' a comprar: \"))\n",
        "            inventario.realizar_compra(nombre, cantidad)\n",
        "\n",
        "        elif opcion == \"6\":\n",
        "            inventario.verificar_niveles_minimos()\n",
        "\n",
        "        elif opcion == \"7\":\n",
        "            print(\"Saliendo del programa.\")\n",
        "            break\n",
        "\n",
        "        else:\n",
        "            print(\"Opción inválida, intente de nuevo.\")"
      ],
      "metadata": {
        "id": "XGXKtLn-7S98"
      },
      "execution_count": 46,
      "outputs": []
    },
    {
      "cell_type": "markdown",
      "source": [
        "Y por ultimo estara imprimiendo el menu del inventario en donde habra 7 opciones para agregar, eliminar, consultar el inventario o el repuesto especifico, realizar una compra o verificar los niveles de los repuestos en el inventario y la opcion de salir, en donde cada opcion tiene sus diferentes pasos, para la primera opcion (agregar) se pide el nombre, la cantidad y el nivel minimo del producto, en donde se estará almacenando en la funcion agregar.repuestos y que estará guardando los valores de nombre, cantidad y nivel minimo, el segundo es para eliminar y solo pedira el nombre del repuesto y la variable que esta eliminando es con el nombre en eliminar_repuesto, la cuarta es para consultar todo el inventario y solo va a llamar la funcion de consultar_inventario y mostrará todo lo que exista en esa función, la quinta opción es para comprar en donde va a pedir el nombre del repuesto(debe existir en el inventario que se va a evaluar con el nombre) y la cantidad a comprar, para la opcion seis solo mandara a llamar los niveles minimos en la función verificar_niveles_minimos y una ultima opción para salir del programa, tambien con una verificacion para evaluar si es otra opcion que no existe y que muestre el mensaje de opcion no valida."
      ],
      "metadata": {
        "id": "n3Rqa92P7v21"
      }
    },
    {
      "cell_type": "code",
      "source": [
        "class InventarioRepuestos:\n",
        "    def __init__(self):\n",
        "        self.repuestos = {}\n",
        "\n",
        "    def agregar_repuesto(self, nombre_repuesto, cantidad, nivel_minimo):\n",
        "        self.repuestos[nombre_repuesto] = {\n",
        "            'cantidad': cantidad,\n",
        "            'nivel_minimo': nivel_minimo\n",
        "        }\n",
        "        print(f\"Repuesto '{nombre_repuesto}' agregado con {cantidad} unidades.\")\n",
        "\n",
        "    def eliminar_repuesto(self, nombre_repuesto):\n",
        "        if nombre_repuesto in self.repuestos:\n",
        "            del self.repuestos[nombre_repuesto]\n",
        "            print(f\"Repuesto '{nombre_repuesto}' eliminado del inventario.\")\n",
        "        else:\n",
        "            print(f\"El repuesto '{nombre_repuesto}' no existe en el inventario.\")\n",
        "\n",
        "    def consultar_inventario(self):\n",
        "        if not self.repuestos:\n",
        "            print(\"No hay repuestos en el inventario.\")\n",
        "        else:\n",
        "            for repuesto, datos in self.repuestos.items():\n",
        "                print(f\"Repuesto: {repuesto}, Cantidad: {datos['cantidad']}, Nivel Mínimo: {datos['nivel_minimo']}\")\n",
        "\n",
        "    def consultar_repuesto(self, nombre_repuesto):\n",
        "        if nombre_repuesto in self.repuestos:\n",
        "            repuesto = self.repuestos[nombre_repuesto]\n",
        "            print(f\"{nombre_repuesto}: Cantidad disponible: {repuesto['cantidad']}, Nivel mínimo: {repuesto['nivel_minimo']}\")\n",
        "        else:\n",
        "            print(f\"El repuesto '{nombre_repuesto}' no se encuentra en el inventario.\")\n",
        "\n",
        "    def realizar_compra(self, nombre_repuesto, cantidad_comprada):\n",
        "        if nombre_repuesto in self.repuestos:\n",
        "            self.repuestos[nombre_repuesto]['cantidad'] += cantidad_comprada\n",
        "            print(f\"Se han comprado {cantidad_comprada} unidades de '{nombre_repuesto}'.\")\n",
        "        else:\n",
        "            print(f\"El repuesto '{nombre_repuesto}' no está en el inventario.\")\n",
        "\n",
        "    def verificar_niveles_minimos(self):\n",
        "        for repuesto, datos in self.repuestos.items():\n",
        "            if datos['cantidad'] < datos['nivel_minimo']:\n",
        "                print(f\"El repuesto '{repuesto}' está bajo su nivel mínimo. Considera realizar una compra.\")\n",
        "            else:\n",
        "                print(f\"El repuesto '{repuesto}' tiene suficiente stock.\")\n",
        "\n",
        "def menu():\n",
        "    inventario = InventarioRepuestos()\n",
        "\n",
        "    while True:\n",
        "        print(\"\\n--- Menú de Inventario ---\")\n",
        "        print(\"1. Agregar repuesto\")\n",
        "        print(\"2. Eliminar repuesto\")\n",
        "        print(\"3. Consultar inventario completo\")\n",
        "        print(\"4. Consultar repuesto específico\")\n",
        "        print(\"5. Realizar compra\")\n",
        "        print(\"6. Verificar niveles mínimos\")\n",
        "        print(\"7. Salir\")\n",
        "\n",
        "        opcion = input(\"Seleccione una opción (1-7): \")\n",
        "\n",
        "        if opcion == \"1\":\n",
        "            nombre = input(\"Ingrese el nombre del repuesto: \")\n",
        "            cantidad = int(input(\"Ingrese la cantidad inicial: \"))\n",
        "            nivel_minimo = int(input(\"Ingrese el nivel mínimo: \"))\n",
        "            inventario.agregar_repuesto(nombre, cantidad, nivel_minimo)\n",
        "\n",
        "        elif opcion == \"2\":\n",
        "            nombre = input(\"Ingrese el nombre del repuesto a eliminar: \")\n",
        "            inventario.eliminar_repuesto(nombre)\n",
        "\n",
        "        elif opcion == \"3\":\n",
        "            inventario.consultar_inventario()\n",
        "\n",
        "        elif opcion == \"4\":\n",
        "            nombre = input(\"Ingrese el nombre del repuesto a consultar: \")\n",
        "            inventario.consultar_repuesto(nombre)\n",
        "\n",
        "        elif opcion == \"5\":\n",
        "            nombre = input(\"Ingrese el nombre del repuesto a comprar: \")\n",
        "            cantidad = int(input(f\"Ingrese la cantidad de '{nombre}' a comprar: \"))\n",
        "            inventario.realizar_compra(nombre, cantidad)\n",
        "\n",
        "        elif opcion == \"6\":\n",
        "            inventario.verificar_niveles_minimos()\n",
        "\n",
        "        elif opcion == \"7\":\n",
        "            print(\"Saliendo del programa.\")\n",
        "            break\n",
        "\n",
        "        else:\n",
        "            print(\"Opción inválida, intente de nuevo.\")\n",
        "\n",
        "menu()\n"
      ],
      "metadata": {
        "colab": {
          "base_uri": "https://localhost:8080/"
        },
        "id": "TOvSD0OnD9uy",
        "outputId": "9aa2d15f-66cb-466b-c7d0-cead8fa74cf7"
      },
      "execution_count": 48,
      "outputs": [
        {
          "output_type": "stream",
          "name": "stdout",
          "text": [
            "\n",
            "--- Menú de Inventario ---\n",
            "1. Agregar repuesto\n",
            "2. Eliminar repuesto\n",
            "3. Consultar inventario completo\n",
            "4. Consultar repuesto específico\n",
            "5. Realizar compra\n",
            "6. Verificar niveles mínimos\n",
            "7. Salir\n",
            "Seleccione una opción (1-7): 1\n",
            "Ingrese el nombre del repuesto: Aceite\n",
            "Ingrese la cantidad inicial: 30\n",
            "Ingrese el nivel mínimo: 40\n",
            "Repuesto 'Aceite' agregado con 30 unidades.\n",
            "\n",
            "--- Menú de Inventario ---\n",
            "1. Agregar repuesto\n",
            "2. Eliminar repuesto\n",
            "3. Consultar inventario completo\n",
            "4. Consultar repuesto específico\n",
            "5. Realizar compra\n",
            "6. Verificar niveles mínimos\n",
            "7. Salir\n",
            "Seleccione una opción (1-7): 1\n",
            "Ingrese el nombre del repuesto: Filtros\n",
            "Ingrese la cantidad inicial: 30\n",
            "Ingrese el nivel mínimo: 10\n",
            "Repuesto 'Filtros' agregado con 30 unidades.\n",
            "\n",
            "--- Menú de Inventario ---\n",
            "1. Agregar repuesto\n",
            "2. Eliminar repuesto\n",
            "3. Consultar inventario completo\n",
            "4. Consultar repuesto específico\n",
            "5. Realizar compra\n",
            "6. Verificar niveles mínimos\n",
            "7. Salir\n",
            "Seleccione una opción (1-7): 3\n",
            "Repuesto: Aceite, Cantidad: 30, Nivel Mínimo: 40\n",
            "Repuesto: Filtros, Cantidad: 30, Nivel Mínimo: 10\n",
            "\n",
            "--- Menú de Inventario ---\n",
            "1. Agregar repuesto\n",
            "2. Eliminar repuesto\n",
            "3. Consultar inventario completo\n",
            "4. Consultar repuesto específico\n",
            "5. Realizar compra\n",
            "6. Verificar niveles mínimos\n",
            "7. Salir\n",
            "Seleccione una opción (1-7): 4\n",
            "Ingrese el nombre del repuesto a consultar: Aceite\n",
            "Aceite: Cantidad disponible: 30, Nivel mínimo: 40\n",
            "\n",
            "--- Menú de Inventario ---\n",
            "1. Agregar repuesto\n",
            "2. Eliminar repuesto\n",
            "3. Consultar inventario completo\n",
            "4. Consultar repuesto específico\n",
            "5. Realizar compra\n",
            "6. Verificar niveles mínimos\n",
            "7. Salir\n",
            "Seleccione una opción (1-7): 5\n",
            "Ingrese el nombre del repuesto a comprar: Filtro\n",
            "Ingrese la cantidad de 'Filtro' a comprar: 10\n",
            "El repuesto 'Filtro' no está en el inventario.\n",
            "\n",
            "--- Menú de Inventario ---\n",
            "1. Agregar repuesto\n",
            "2. Eliminar repuesto\n",
            "3. Consultar inventario completo\n",
            "4. Consultar repuesto específico\n",
            "5. Realizar compra\n",
            "6. Verificar niveles mínimos\n",
            "7. Salir\n",
            "Seleccione una opción (1-7): 5\n",
            "Ingrese el nombre del repuesto a comprar: Filtros\n",
            "Ingrese la cantidad de 'Filtros' a comprar: 10\n",
            "Se han comprado 10 unidades de 'Filtros'.\n",
            "\n",
            "--- Menú de Inventario ---\n",
            "1. Agregar repuesto\n",
            "2. Eliminar repuesto\n",
            "3. Consultar inventario completo\n",
            "4. Consultar repuesto específico\n",
            "5. Realizar compra\n",
            "6. Verificar niveles mínimos\n",
            "7. Salir\n",
            "Seleccione una opción (1-7): 4\n",
            "Ingrese el nombre del repuesto a consultar: Filtros\n",
            "Filtros: Cantidad disponible: 40, Nivel mínimo: 10\n",
            "\n",
            "--- Menú de Inventario ---\n",
            "1. Agregar repuesto\n",
            "2. Eliminar repuesto\n",
            "3. Consultar inventario completo\n",
            "4. Consultar repuesto específico\n",
            "5. Realizar compra\n",
            "6. Verificar niveles mínimos\n",
            "7. Salir\n",
            "Seleccione una opción (1-7): 6\n",
            "El repuesto 'Aceite' está bajo su nivel mínimo. Considera realizar una compra.\n",
            "El repuesto 'Filtros' tiene suficiente stock.\n",
            "\n",
            "--- Menú de Inventario ---\n",
            "1. Agregar repuesto\n",
            "2. Eliminar repuesto\n",
            "3. Consultar inventario completo\n",
            "4. Consultar repuesto específico\n",
            "5. Realizar compra\n",
            "6. Verificar niveles mínimos\n",
            "7. Salir\n",
            "Seleccione una opción (1-7): 7\n",
            "Saliendo del programa.\n"
          ]
        }
      ]
    },
    {
      "cell_type": "markdown",
      "source": [
        "Aqui se muestra el codigo completo, si se ejecuta en partes produce un error ya que no encuentra los productos agregados así que se tiene que ejecutar el codigo completo para que no produzca un error."
      ],
      "metadata": {
        "id": "iI8vVTx9ECIL"
      }
    },
    {
      "cell_type": "markdown",
      "source": [
        "***Una empresa de servicios a terceros ofrece proyectos de consultoría y debe llevar el control de horas trabajadas por sus empleados en diferentes proyectos. Crea un programa que calcule las horas totales trabajadas por cada empleado en varios proyectos y su costo total en función de la tarifa por hora.***"
      ],
      "metadata": {
        "id": "su6K4cHkFnHG"
      }
    },
    {
      "cell_type": "code",
      "source": [
        "class Empleado:\n",
        "  def __init__(self, nombre, tarifa_hora):\n",
        "        self.nombre = nombre\n",
        "        self.tarifa_hora = tarifa_hora\n",
        "        self.proyectos = {}"
      ],
      "metadata": {
        "id": "TcfldBPsFsl6"
      },
      "execution_count": 52,
      "outputs": []
    },
    {
      "cell_type": "markdown",
      "source": [
        "Primero se va a crear la clase empleado para poder almacenar y crear la funciones sin que exista algun problema con sus atributos"
      ],
      "metadata": {
        "id": "OlWfe0utGEtN"
      }
    },
    {
      "cell_type": "code",
      "source": [
        "def registrar_horas(self, proyecto, horas):\n",
        "        if proyecto in self.proyectos:\n",
        "            self.proyectos[proyecto] += horas\n",
        "        else:\n",
        "            self.proyectos[proyecto] = horas\n"
      ],
      "metadata": {
        "id": "u2-HbiJiGV4G"
      },
      "execution_count": 53,
      "outputs": []
    },
    {
      "cell_type": "markdown",
      "source": [
        "Y se crea la funcion en donde se van a registrar las horas en que el empleado a trabajado en ese proyecto, en donde si está iniciado va a sumar las horas que ya habia trabajado con las nuevas y si aun no iniciaba las contara desde 0."
      ],
      "metadata": {
        "id": "-90EDAbyGiIx"
      }
    },
    {
      "cell_type": "code",
      "source": [
        "def horas_totales(self):\n",
        "        return sum(self.proyectos.values())"
      ],
      "metadata": {
        "id": "xDHLE6aDHcMr"
      },
      "execution_count": 54,
      "outputs": []
    },
    {
      "cell_type": "markdown",
      "source": [
        "En esta parte está sumando las horas trabajadas por todos los proyectos de un empleado"
      ],
      "metadata": {
        "id": "qifcNlkqHi1P"
      }
    },
    {
      "cell_type": "code",
      "source": [
        "def costo_total(self):\n",
        "        return self.horas_totales() * self.tarifa_hora\n"
      ],
      "metadata": {
        "id": "tJboc29QHoqi"
      },
      "execution_count": 55,
      "outputs": []
    },
    {
      "cell_type": "markdown",
      "source": [
        "Aqui esta calculando el costo total de las horas trabajadas basado en la tarifa por hora\n"
      ],
      "metadata": {
        "id": "prWbow_6H5h9"
      }
    },
    {
      "cell_type": "code",
      "source": [
        "def resumen_trabajo(self):\n",
        "        print(f\"Resumen de trabajo de {self.nombre}:\")\n",
        "        for proyecto, horas in self.proyectos.items():\n",
        "            print(f\" - Proyecto: {proyecto}, Horas trabajadas: {horas}\")\n",
        "        print(f\"Horas totales trabajadas: {self.horas_totales()}\")\n",
        "        print(f\"Costo total: ${self.costo_total():.2f}\")\n",
        "        print()"
      ],
      "metadata": {
        "id": "exNF9p-hH8ZU"
      },
      "execution_count": 56,
      "outputs": []
    },
    {
      "cell_type": "markdown",
      "source": [
        "Muestra el resumen de horas trabajadas y el costo total por proyecto."
      ],
      "metadata": {
        "id": "JfYR3CC2IItR"
      }
    },
    {
      "cell_type": "code",
      "source": [
        "class Empresa:\n",
        "    def __init__(self):\n",
        "        self.empleados = {}"
      ],
      "metadata": {
        "id": "pLWo3WjIIOJr"
      },
      "execution_count": 57,
      "outputs": []
    },
    {
      "cell_type": "markdown",
      "source": [
        "Aquí se crea una nueva clase para la empresa en donde tendra a los empleados que ya fueron creados y tendra atributos diferentes como el nombre del empleado y la tarifa por hora"
      ],
      "metadata": {
        "id": "7N9hkKsxISFl"
      }
    },
    {
      "cell_type": "code",
      "source": [
        "def agregar_empleado(self, nombre, tarifa_hora):\n",
        "        self.empleados[nombre] = Empleado(nombre, tarifa_hora)\n",
        "        print(f\"Empleado {nombre} agregado con una tarifa de ${tarifa_hora}/hora.\\n\")\n"
      ],
      "metadata": {
        "id": "aX-j6YLwImUI"
      },
      "execution_count": 58,
      "outputs": []
    },
    {
      "cell_type": "markdown",
      "source": [
        "En esta parte agrega un empleado a la empresa y la tarifa por hora"
      ],
      "metadata": {
        "id": "72hIqt38Izpa"
      }
    },
    {
      "cell_type": "code",
      "source": [
        "def registrar_horas_empleado(self, nombre_empleado, proyecto, horas):\n",
        "        if nombre_empleado in self.empleados:\n",
        "            self.empleados[nombre_empleado].registrar_horas(proyecto, horas)\n",
        "            print(f\"Se han registrado {horas} horas en el proyecto '{proyecto}' para {nombre_empleado}.\\n\")\n",
        "        else:\n",
        "            print(f\"El empleado {nombre_empleado} no existe.\\n\")"
      ],
      "metadata": {
        "id": "keuPuk98I3bB"
      },
      "execution_count": 59,
      "outputs": []
    },
    {
      "cell_type": "markdown",
      "source": [
        "Aqui registra las horas trabajadas por un empleado en un proyecto específico."
      ],
      "metadata": {
        "id": "K2NHRBl0JDat"
      }
    },
    {
      "cell_type": "code",
      "source": [
        "def mostrar_resumen_empleados(self):\n",
        "        print(\"Resumen de todos los empleados:\\n\")\n",
        "        for empleado in self.empleados.values():\n",
        "            empleado.resumen_trabajo()"
      ],
      "metadata": {
        "id": "zkuBm14kJMcq"
      },
      "execution_count": 60,
      "outputs": []
    },
    {
      "cell_type": "markdown",
      "source": [
        "En esta parte solo muestra el resumen de horas trabajadas y costos de todos los empleados a comparacion de la anterior que solo muestra por empleado."
      ],
      "metadata": {
        "id": "O_ffKvBSJRJ1"
      }
    },
    {
      "cell_type": "code",
      "source": [
        "def menu():\n",
        "    empresa = Empresa()\n",
        "\n",
        "    while True:\n",
        "        print(\"\\n--- Menú de la Empresa ---\")\n",
        "        print(\"1. Agregar empleado\")\n",
        "        print(\"2. Registrar horas trabajadas\")\n",
        "        print(\"3. Mostrar resumen de empleados\")\n",
        "        print(\"4. Salir\")\n",
        "\n",
        "        opcion = input(\"Seleccione una opción (1-4): \")\n",
        "\n",
        "        if opcion == \"1\":\n",
        "            nombre = input(\"Ingrese el nombre del empleado: \")\n",
        "            tarifa_hora = float(input(f\"Ingrese la tarifa por hora de {nombre}: \"))\n",
        "            empresa.agregar_empleado(nombre, tarifa_hora)\n",
        "\n",
        "        elif opcion == \"2\":\n",
        "            nombre_empleado = input(\"Ingrese el nombre del empleado: \")\n",
        "            proyecto = input(\"Ingrese el nombre del proyecto: \")\n",
        "            horas = float(input(f\"Ingrese las horas trabajadas en '{proyecto}': \"))\n",
        "            empresa.registrar_horas_empleado(nombre_empleado, proyecto, horas)\n",
        "\n",
        "        elif opcion == \"3\":\n",
        "            empresa.mostrar_resumen_empleados()\n",
        "\n",
        "        elif opcion == \"4\":\n",
        "            print(\"Saliendo del programa.\")\n",
        "            break\n",
        "\n",
        "        else:\n",
        "            print(\"Opción inválida, intente de nuevo.\")"
      ],
      "metadata": {
        "id": "zEd2YA1UJa9W"
      },
      "execution_count": 61,
      "outputs": []
    },
    {
      "cell_type": "markdown",
      "source": [
        "Y por ultimo estas son las opciones que apareceran en la pantalla para que el usuario pueda seleccionar cualquiera de ellas que en si son tres mas la de salir, en la primera opcion que es agregar el empleado pues nos pedira sus atributos del empleado que son el nombre y la tarifa, para la segunda nos pedira el nombre del empleado, el nombre del proyecto y las horas que a trabajado en ese proyecto y para las otras dos opciones en la tres nos muestra todo lo que hay en resumen del empleado y la ultima solo sirve para finalizar el codigo, tambien como el anterior una opcion para verificar que las opciones sean validas."
      ],
      "metadata": {
        "id": "-ttvxUbyJm6m"
      }
    },
    {
      "cell_type": "code",
      "source": [
        "menu()\n"
      ],
      "metadata": {
        "id": "6odDUuYPKjFw"
      },
      "execution_count": null,
      "outputs": []
    },
    {
      "cell_type": "markdown",
      "source": [
        "La opcion del menu para poder ejecutarlo y que muestre las opciones que se pueden elegir, solo que si se ejecuta en partes marcara un error al no encontrar las funciones o clases."
      ],
      "metadata": {
        "id": "-AIOuormKlsw"
      }
    },
    {
      "cell_type": "code",
      "source": [
        "class Empleado:\n",
        "    def __init__(self, nombre, tarifa_hora):\n",
        "        self.nombre = nombre\n",
        "        self.tarifa_hora = tarifa_hora\n",
        "        self.proyectos = {}\n",
        "\n",
        "    def registrar_horas(self, proyecto, horas):\n",
        "        if proyecto in self.proyectos:\n",
        "            self.proyectos[proyecto] += horas\n",
        "        else:\n",
        "            self.proyectos[proyecto] = horas\n",
        "\n",
        "    def horas_totales(self):\n",
        "        return sum(self.proyectos.values())\n",
        "\n",
        "    def costo_total(self):\n",
        "        return self.horas_totales() * self.tarifa_hora\n",
        "\n",
        "    def resumen_trabajo(self):\n",
        "        print(f\"Resumen de trabajo de {self.nombre}:\")\n",
        "        for proyecto, horas in self.proyectos.items():\n",
        "            print(f\" - Proyecto: {proyecto}, Horas trabajadas: {horas}\")\n",
        "        print(f\"Horas totales trabajadas: {self.horas_totales()}\")\n",
        "        print(f\"Costo total: ${self.costo_total():.2f}\")\n",
        "        print()\n",
        "\n",
        "class Empresa:\n",
        "    def __init__(self):\n",
        "        self.empleados = {}\n",
        "\n",
        "    def agregar_empleado(self, nombre, tarifa_hora):\n",
        "        self.empleados[nombre] = Empleado(nombre, tarifa_hora)\n",
        "        print(f\"Empleado {nombre} agregado con una tarifa de ${tarifa_hora}/hora.\\n\")\n",
        "\n",
        "    def registrar_horas_empleado(self, nombre_empleado, proyecto, horas):\n",
        "        if nombre_empleado in self.empleados:\n",
        "            self.empleados[nombre_empleado].registrar_horas(proyecto, horas)\n",
        "            print(f\"Se han registrado {horas} horas en el proyecto '{proyecto}' para {nombre_empleado}.\\n\")\n",
        "        else:\n",
        "            print(f\"El empleado {nombre_empleado} no existe.\\n\")\n",
        "\n",
        "    def mostrar_resumen_empleados(self):\n",
        "        print(\"Resumen de todos los empleados:\\n\")\n",
        "        for empleado in self.empleados.values():\n",
        "            empleado.resumen_trabajo()\n",
        "\n",
        "def menu():\n",
        "    empresa = Empresa()\n",
        "\n",
        "    while True:\n",
        "        print(\"\\n--- Menú de la Empresa ---\")\n",
        "        print(\"1. Agregar empleado\")\n",
        "        print(\"2. Registrar horas trabajadas\")\n",
        "        print(\"3. Mostrar resumen de empleados\")\n",
        "        print(\"4. Salir\")\n",
        "\n",
        "        opcion = input(\"Seleccione una opción (1-4): \")\n",
        "\n",
        "        if opcion == \"1\":\n",
        "            nombre = input(\"Ingrese el nombre del empleado: \")\n",
        "            tarifa_hora = float(input(f\"Ingrese la tarifa por hora de {nombre}: \"))\n",
        "            empresa.agregar_empleado(nombre, tarifa_hora)\n",
        "\n",
        "        elif opcion == \"2\":\n",
        "            nombre_empleado = input(\"Ingrese el nombre del empleado: \")\n",
        "            proyecto = input(\"Ingrese el nombre del proyecto: \")\n",
        "            horas = float(input(f\"Ingrese las horas trabajadas en '{proyecto}': \"))\n",
        "            empresa.registrar_horas_empleado(nombre_empleado, proyecto, horas)\n",
        "\n",
        "        elif opcion == \"3\":\n",
        "            empresa.mostrar_resumen_empleados()\n",
        "\n",
        "        elif opcion == \"4\":\n",
        "            print(\"Saliendo del programa.\")\n",
        "            break\n",
        "\n",
        "        else:\n",
        "            print(\"Opción inválida, intente de nuevo.\")\n",
        "menu()"
      ],
      "metadata": {
        "colab": {
          "base_uri": "https://localhost:8080/"
        },
        "id": "JWcjFezsKVSJ",
        "outputId": "4415b562-a895-4859-f905-731efbdf2368"
      },
      "execution_count": 62,
      "outputs": [
        {
          "output_type": "stream",
          "name": "stdout",
          "text": [
            "\n",
            "--- Menú de la Empresa ---\n",
            "1. Agregar empleado\n",
            "2. Registrar horas trabajadas\n",
            "3. Mostrar resumen de empleados\n",
            "4. Salir\n",
            "Seleccione una opción (1-4): 1\n",
            "Ingrese el nombre del empleado: Miguel\n",
            "Ingrese la tarifa por hora de Miguel: 50\n",
            "Empleado Miguel agregado con una tarifa de $50.0/hora.\n",
            "\n",
            "\n",
            "--- Menú de la Empresa ---\n",
            "1. Agregar empleado\n",
            "2. Registrar horas trabajadas\n",
            "3. Mostrar resumen de empleados\n",
            "4. Salir\n",
            "Seleccione una opción (1-4): 1\n",
            "Ingrese el nombre del empleado: Angel\n",
            "Ingrese la tarifa por hora de Angel: 100\n",
            "Empleado Angel agregado con una tarifa de $100.0/hora.\n",
            "\n",
            "\n",
            "--- Menú de la Empresa ---\n",
            "1. Agregar empleado\n",
            "2. Registrar horas trabajadas\n",
            "3. Mostrar resumen de empleados\n",
            "4. Salir\n",
            "Seleccione una opción (1-4): Santiago\n",
            "Opción inválida, intente de nuevo.\n",
            "\n",
            "--- Menú de la Empresa ---\n",
            "1. Agregar empleado\n",
            "2. Registrar horas trabajadas\n",
            "3. Mostrar resumen de empleados\n",
            "4. Salir\n",
            "Seleccione una opción (1-4): 1\n",
            "Ingrese el nombre del empleado: Santiago\n",
            "Ingrese la tarifa por hora de Santiago: 10\n",
            "Empleado Santiago agregado con una tarifa de $10.0/hora.\n",
            "\n",
            "\n",
            "--- Menú de la Empresa ---\n",
            "1. Agregar empleado\n",
            "2. Registrar horas trabajadas\n",
            "3. Mostrar resumen de empleados\n",
            "4. Salir\n",
            "Seleccione una opción (1-4): 2\n",
            "Ingrese el nombre del empleado: Angel\n",
            "Ingrese el nombre del proyecto: IA\n",
            "Ingrese las horas trabajadas en 'IA': 10\n",
            "Se han registrado 10.0 horas en el proyecto 'IA' para Angel.\n",
            "\n",
            "\n",
            "--- Menú de la Empresa ---\n",
            "1. Agregar empleado\n",
            "2. Registrar horas trabajadas\n",
            "3. Mostrar resumen de empleados\n",
            "4. Salir\n",
            "Seleccione una opción (1-4): 2\n",
            "Ingrese el nombre del empleado: Miguel\n",
            "Ingrese el nombre del proyecto: TR1\n",
            "Ingrese las horas trabajadas en 'TR1': 40\n",
            "Se han registrado 40.0 horas en el proyecto 'TR1' para Miguel.\n",
            "\n",
            "\n",
            "--- Menú de la Empresa ---\n",
            "1. Agregar empleado\n",
            "2. Registrar horas trabajadas\n",
            "3. Mostrar resumen de empleados\n",
            "4. Salir\n",
            "Seleccione una opción (1-4): 2\n",
            "Ingrese el nombre del empleado: Santiago\n",
            "Ingrese el nombre del proyecto: SA1\n",
            "Ingrese las horas trabajadas en 'SA1': 50\n",
            "Se han registrado 50.0 horas en el proyecto 'SA1' para Santiago.\n",
            "\n",
            "\n",
            "--- Menú de la Empresa ---\n",
            "1. Agregar empleado\n",
            "2. Registrar horas trabajadas\n",
            "3. Mostrar resumen de empleados\n",
            "4. Salir\n",
            "Seleccione una opción (1-4): 3\n",
            "Resumen de todos los empleados:\n",
            "\n",
            "Resumen de trabajo de Miguel:\n",
            " - Proyecto: TR1, Horas trabajadas: 40.0\n",
            "Horas totales trabajadas: 40.0\n",
            "Costo total: $2000.00\n",
            "\n",
            "Resumen de trabajo de Angel:\n",
            " - Proyecto: IA, Horas trabajadas: 10.0\n",
            "Horas totales trabajadas: 10.0\n",
            "Costo total: $1000.00\n",
            "\n",
            "Resumen de trabajo de Santiago:\n",
            " - Proyecto: SA1, Horas trabajadas: 50.0\n",
            "Horas totales trabajadas: 50.0\n",
            "Costo total: $500.00\n",
            "\n",
            "\n",
            "--- Menú de la Empresa ---\n",
            "1. Agregar empleado\n",
            "2. Registrar horas trabajadas\n",
            "3. Mostrar resumen de empleados\n",
            "4. Salir\n",
            "Seleccione una opción (1-4): 4\n",
            "Saliendo del programa.\n"
          ]
        }
      ]
    }
  ]
}